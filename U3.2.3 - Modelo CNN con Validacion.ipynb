{
 "cells": [
  {
   "cell_type": "markdown",
   "metadata": {},
   "source": [
    "# Entrenamiento del modelo creado en U3.2.1 con validación usando GPU en Google Colaboratory "
   ]
  },
  {
   "cell_type": "markdown",
   "metadata": {},
   "source": [
    "Partiendo de las tareas realizadas en U3.2.1, donde se creó un modelo preliminar y se entrenó sin realizar validación, y de U3.2.2, donde se implementó Transfer Learning con InceptionV3 y se obtuvo un modelo con overfitting pese a los esfuerzos; se decidió volver a entrenar el modelo creado en U3.2.1, $\\textbf{realizando validación y utilizando la GPU de Google Colaboratory}$ (este notebook fue ejecutado en [Colab](https://colab.research.google.com/notebooks/welcome.ipynb) para realizar el entrenamiento)"
   ]
  },
  {
   "cell_type": "markdown",
   "metadata": {},
   "source": [
    "# Contenido"
   ]
  },
  {
   "cell_type": "markdown",
   "metadata": {},
   "source": [
    "####  1. Importación de librerías y cargue del dataset RPC\n",
    "####  2. Creación del modelo CNN\n",
    "####  3. Entrenamiento del modelo CNN con validación en Colab"
   ]
  },
  {
   "cell_type": "markdown",
   "metadata": {},
   "source": [
    " ## 1. Importación de librerías y cargue del dataset RPC"
   ]
  },
  {
   "cell_type": "markdown",
   "metadata": {},
   "source": [
    "A continuación, se cargan algunas de las librerías necesarias para completar esta tarea:"
   ]
  },
  {
   "cell_type": "code",
   "execution_count": 0,
   "metadata": {
    "colab": {},
    "colab_type": "code",
    "id": "1oa_4p7V4UOD"
   },
   "outputs": [],
   "source": [
    "import pandas as pd\n",
    "import numpy as np\n",
    "import matplotlib.pyplot as plt\n",
    "import tensorflow as tf\n",
    "from keras_preprocessing.image import ImageDataGenerator\n",
    "%matplotlib inline"
   ]
  },
  {
   "cell_type": "markdown",
   "metadata": {},
   "source": [
    "Se lee el archivo json que contiene información del dataset y se dividen en datasets de imágenes y etiquetas."
   ]
  },
  {
   "cell_type": "code",
   "execution_count": 4,
   "metadata": {
    "colab": {
     "base_uri": "https://localhost:8080/",
     "height": 34
    },
    "colab_type": "code",
    "id": "_1r5Wm3l4UOX",
    "outputId": "eec2a427-c02b-4c22-92d7-a598f29cd07b"
   },
   "outputs": [
    {
     "data": {
      "text/plain": [
       "((53739,), (53739,), 17)"
      ]
     },
     "execution_count": 4,
     "metadata": {
      "tags": []
     },
     "output_type": "execute_result"
    }
   ],
   "source": [
    "data_df = pd.read_json('./data/instances_train2019.json', lines=True)\n",
    "categories = data_df['categories'][0]\n",
    "categories = df = pd.DataFrame.from_dict(categories, orient='columns')\n",
    "annotations = data_df['annotations'][0]\n",
    "annotations = df = pd.DataFrame.from_dict(annotations, orient='columns')\n",
    "images = data_df['images'][0]\n",
    "images = df = pd.DataFrame.from_dict(images, orient='columns')\n",
    "\n",
    "annot_x_categ = pd.merge(annotations, categories, how='left', left_on=['category_id'], right_on=['id'])\n",
    "y_names = annot_x_categ['supercategory'].unique().tolist()\n",
    "annot_x_categ_file_names = pd.merge(annot_x_categ, images, how='left', left_on=['image_id'], right_on=['id'])\n",
    "y_data = np.array(annot_x_categ_file_names['supercategory'].values)\n",
    "X_data = np.array(annot_x_categ_file_names['file_name'].values)\n",
    "num_classes = len(y_names)\n",
    "\n",
    "X_data.shape, y_data.shape, num_classes"
   ]
  },
  {
   "cell_type": "markdown",
   "metadata": {},
   "source": [
    "Se divide el conjunto de datos entre train y test."
   ]
  },
  {
   "cell_type": "code",
   "execution_count": 6,
   "metadata": {
    "colab": {
     "base_uri": "https://localhost:8080/",
     "height": 34
    },
    "colab_type": "code",
    "id": "onnK9Ult4UOn",
    "outputId": "88faa26f-ce58-47dd-9dd6-c34c88188da8"
   },
   "outputs": [
    {
     "data": {
      "text/plain": [
       "((42991,), (10748,), (42991,), (10748,))"
      ]
     },
     "execution_count": 6,
     "metadata": {
      "tags": []
     },
     "output_type": "execute_result"
    }
   ],
   "source": [
    "from sklearn.model_selection import train_test_split\n",
    "\n",
    "X_train, X_test, y_train, y_test = train_test_split(X_data, y_data, test_size=.2)\n",
    "X_train.shape, X_test.shape, y_train.shape, y_test.shape"
   ]
  },
  {
   "cell_type": "markdown",
   "metadata": {},
   "source": [
    "Se crea un dataframe con el conjunto de datos de train."
   ]
  },
  {
   "cell_type": "code",
   "execution_count": 0,
   "metadata": {
    "colab": {},
    "colab_type": "code",
    "id": "0qqdKDiP4UO7"
   },
   "outputs": [],
   "source": [
    "columns = ['filename','class']\n",
    "\n",
    "df_train = pd.DataFrame(columns=columns)\n",
    "df_train['filename'] = X_train.astype(str)\n",
    "df_train['class'] = y_train.astype(str)\n",
    "\n",
    "df_test = pd.DataFrame(columns=columns)\n",
    "df_test['filename'] = X_test.astype(str)\n",
    "df_test['class'] = y_test.astype(str)"
   ]
  },
  {
   "cell_type": "markdown",
   "metadata": {},
   "source": [
    "Luego de esto, se utiliza $\\textbf{ImageDataGenerator}$ para normalizar las imágenes y realizar un split de las imágenes del train, dejando un 25% para validación. Se define un tamaño de batch de 20 imágenes y un tamaño de imágen de 200x200. Finalmente, se definen las funciones con las cuales se cargarán las imágenes por lotes para train, validation y test."
   ]
  },
  {
   "cell_type": "code",
   "execution_count": 0,
   "metadata": {
    "colab": {},
    "colab_type": "code",
    "id": "b5Tp_T2r4UPA"
   },
   "outputs": [],
   "source": [
    "train_datagen = ImageDataGenerator(rescale=1./255, fill_mode='nearest', validation_split=0.25)\n",
    "batch_size = 20\n",
    "img_size = 200\n",
    "\n",
    "train_generator_fn = lambda: train_datagen.flow_from_dataframe(\n",
    "        df_train,  \n",
    "        directory=\"./data/train2019/\", \n",
    "        x_col='filename', \n",
    "        y_col='class',\n",
    "        subset=\"training\",\n",
    "        target_size=(img_size, img_size),  \n",
    "        batch_size=batch_size,\n",
    "        interpolation = 'nearest',\n",
    "        class_mode='categorical') \n",
    "\n",
    "valid_generator_fn = lambda: train_datagen.flow_from_dataframe(\n",
    "        df_train,  \n",
    "        directory=\"./data/train2019/\", \n",
    "        x_col='filename', \n",
    "        y_col='class',\n",
    "        subset=\"validation\",\n",
    "        target_size=(img_size, img_size),  \n",
    "        batch_size=batch_size,\n",
    "        interpolation = 'nearest',\n",
    "        class_mode='categorical') \n",
    "\n",
    "test_datagen=ImageDataGenerator(rescale=1./255, fill_mode='nearest')\n",
    "\n",
    "test_generator_fn = lambda: test_datagen.flow_from_dataframe(\n",
    "        df_test,  \n",
    "        directory=\"./data/train2019/\", \n",
    "        x_col='filename', \n",
    "        y_col='class',\n",
    "        target_size=(img_size, img_size),  \n",
    "        batch_size=batch_size,\n",
    "        interpolation = 'nearest',\n",
    "        class_mode='categorical') "
   ]
  },
  {
   "cell_type": "markdown",
   "metadata": {},
   "source": [
    "También, se definen una función que nos servirán para ver graficamente los resultados del entrenamiento. El parámentro de entrada es un modelo recién entrenado. La función realiza un gráfico de $\\textbf{accuracy}$ y $\\textbf{accuracy_validation}$ contra $\\textbf{épocas}$ y otro de $\\textbf{loss}$ y $\\textbf{loss_validation}$ contra las $\\textbf{épocas}$."
   ]
  },
  {
   "cell_type": "code",
   "execution_count": 0,
   "metadata": {
    "colab": {},
    "colab_type": "code",
    "id": "b4MV0zSOgTHU"
   },
   "outputs": [],
   "source": [
    "def plot_metrics_model(model):\n",
    "    plt.figure(figsize=(20,5))\n",
    "    plt.subplot(1,2,1)\n",
    "    plt.plot(model.history.history[\"acc\"], label=\"acc\")\n",
    "    plt.plot(model.history.history[\"val_acc\"], label=\"val_acc\")\n",
    "    plt.grid()\n",
    "    plt.legend();\n",
    "    plt.xlabel(\"training step\")\n",
    "    plt.ylabel(\"accuracy\")\n",
    "    plt.ylim(0,1.05)\n",
    "    \n",
    "    plt.subplot(1,2,2)\n",
    "    loss  = model.history.history[\"loss\"]\n",
    "    vloss = model.history.history[\"val_loss\"]\n",
    "    plt.plot(loss, lw=4, alpha=.5, label=\"loss\")\n",
    "    plt.plot(vloss, lw=4, alpha=.5, label=\"val loss\")\n",
    "    plt.grid();\n",
    "    plt.legend();\n",
    "    \n",
    "    plt.show()"
   ]
  },
  {
   "cell_type": "markdown",
   "metadata": {},
   "source": [
    "## 2. Creación del modelo CNN "
   ]
  },
  {
   "cell_type": "markdown",
   "metadata": {},
   "source": [
    "A continuación, se muestra el modelo definido, el cual tiene la misma arquitectura que en U3.2.1."
   ]
  },
  {
   "cell_type": "code",
   "execution_count": 0,
   "metadata": {
    "colab": {},
    "colab_type": "code",
    "id": "lFE_p-wf4UOv"
   },
   "outputs": [],
   "source": [
    "def get_conv_model(num_classes, img_size=200, compile=True):   \n",
    "    tf.reset_default_graph()\n",
    "    tf.keras.backend.clear_session()\n",
    "    print \"using\",num_classes,\"classes\"\n",
    "    inputs = tf.keras.Input(shape=(img_size,img_size,3), name=\"input_1\")\n",
    "    layers = tf.keras.layers.Conv2D(100,(9,9), activation=\"relu\")(inputs)\n",
    "    layers = tf.keras.layers.MaxPool2D((2,2))(layers)\n",
    "    layers = tf.keras.layers.Conv2D(50,(5,5), activation=\"relu\")(layers)\n",
    "    layers = tf.keras.layers.Dropout(0.3)(layers)\n",
    "    layers = tf.keras.layers.MaxPool2D((2,2))(layers)\n",
    "    layers = tf.keras.layers.Conv2D(25,(3,3), activation=\"relu\")(layers)\n",
    "    layers = tf.keras.layers.Flatten()(layers)\n",
    "    layers = tf.keras.layers.Dense(64, activation=tf.nn.relu)(layers)\n",
    "    layers = tf.keras.layers.Dropout(0.2)(layers)\n",
    "    predictions = tf.keras.layers.Dense(num_classes, activation=tf.nn.softmax, name=\"output_1\")(layers)\n",
    "    model = tf.keras.Model(inputs = inputs, outputs=predictions)\n",
    "    if compile:\n",
    "        model.compile(optimizer='adam',\n",
    "                      loss='categorical_crossentropy',\n",
    "                      metrics=['accuracy'])\n",
    "    return model"
   ]
  },
  {
   "cell_type": "code",
   "execution_count": 8,
   "metadata": {
    "colab": {
     "base_uri": "https://localhost:8080/",
     "height": 649
    },
    "colab_type": "code",
    "id": "KCess9K64UO0",
    "outputId": "c6055767-a3bd-4b66-8feb-a454d0698e03"
   },
   "outputs": [
    {
     "name": "stdout",
     "output_type": "stream",
     "text": [
      "using 17 classes\n",
      "WARNING:tensorflow:From /usr/local/lib/python2.7/dist-packages/tensorflow/python/ops/resource_variable_ops.py:435: colocate_with (from tensorflow.python.framework.ops) is deprecated and will be removed in a future version.\n",
      "Instructions for updating:\n",
      "Colocations handled automatically by placer.\n",
      "WARNING:tensorflow:From /usr/local/lib/python2.7/dist-packages/tensorflow/python/keras/layers/core.py:143: calling dropout (from tensorflow.python.ops.nn_ops) with keep_prob is deprecated and will be removed in a future version.\n",
      "Instructions for updating:\n",
      "Please use `rate` instead of `keep_prob`. Rate should be set to `rate = 1 - keep_prob`.\n",
      "_________________________________________________________________\n",
      "Layer (type)                 Output Shape              Param #   \n",
      "=================================================================\n",
      "input_1 (InputLayer)         (None, 200, 200, 3)       0         \n",
      "_________________________________________________________________\n",
      "conv2d (Conv2D)              (None, 192, 192, 100)     24400     \n",
      "_________________________________________________________________\n",
      "max_pooling2d (MaxPooling2D) (None, 96, 96, 100)       0         \n",
      "_________________________________________________________________\n",
      "conv2d_1 (Conv2D)            (None, 92, 92, 50)        125050    \n",
      "_________________________________________________________________\n",
      "dropout (Dropout)            (None, 92, 92, 50)        0         \n",
      "_________________________________________________________________\n",
      "max_pooling2d_1 (MaxPooling2 (None, 46, 46, 50)        0         \n",
      "_________________________________________________________________\n",
      "conv2d_2 (Conv2D)            (None, 44, 44, 25)        11275     \n",
      "_________________________________________________________________\n",
      "flatten (Flatten)            (None, 48400)             0         \n",
      "_________________________________________________________________\n",
      "dense (Dense)                (None, 64)                3097664   \n",
      "_________________________________________________________________\n",
      "dropout_1 (Dropout)          (None, 64)                0         \n",
      "_________________________________________________________________\n",
      "output_1 (Dense)             (None, 17)                1105      \n",
      "=================================================================\n",
      "Total params: 3,259,494\n",
      "Trainable params: 3,259,494\n",
      "Non-trainable params: 0\n",
      "_________________________________________________________________\n"
     ]
    }
   ],
   "source": [
    "model = get_conv_model(num_classes, img_size=200, compile=True)\n",
    "model.summary()"
   ]
  },
  {
   "cell_type": "markdown",
   "metadata": {},
   "source": [
    "## 3. Entrenamiento del modelo CNN con validación en Colab"
   ]
  },
  {
   "cell_type": "markdown",
   "metadata": {},
   "source": [
    "Se utilizan 30 épocas, con 50 pasos por época en el train y 10 pasos por época en la validación (esto cambia en el entrenamiento debido al uso de la GPU, en la cual se redistribuye el trabajo de acuerdo a los recursos disponibles). "
   ]
  },
  {
   "cell_type": "code",
   "execution_count": 11,
   "metadata": {
    "colab": {
     "base_uri": "https://localhost:8080/",
     "height": 1669
    },
    "colab_type": "code",
    "id": "qOgCF6M-4UPD",
    "outputId": "1c4fee86-f18c-4022-e665-11a68b806ad4",
    "scrolled": false
   },
   "outputs": [
    {
     "name": "stdout",
     "output_type": "stream",
     "text": [
      "Found 32244 images belonging to 17 classes.\n",
      "Found 10747 images belonging to 17 classes.\n",
      "WARNING:tensorflow:From /usr/local/lib/python2.7/dist-packages/tensorflow/python/ops/math_ops.py:3066: to_int32 (from tensorflow.python.ops.math_ops) is deprecated and will be removed in a future version.\n",
      "Instructions for updating:\n",
      "Use tf.cast instead.\n",
      "Epoch 1/30\n",
      "538/538 [==============================] - 23s 43ms/step - loss: 0.9033 - acc: 0.7064\n",
      "1613/1613 [==============================] - 160s 99ms/step - loss: 1.8569 - acc: 0.3842 - val_loss: 0.9033 - val_acc: 0.7064\n",
      "Epoch 2/30\n",
      "538/538 [==============================] - 23s 42ms/step - loss: 0.5629 - acc: 0.8102\n",
      "1613/1613 [==============================] - 155s 96ms/step - loss: 0.7649 - acc: 0.7192 - val_loss: 0.5629 - val_acc: 0.8102\n",
      "Epoch 3/30\n",
      "538/538 [==============================] - 22s 41ms/step - loss: 0.4414 - acc: 0.8525\n",
      "1613/1613 [==============================] - 154s 96ms/step - loss: 0.5127 - acc: 0.8065 - val_loss: 0.4414 - val_acc: 0.8525\n",
      "Epoch 4/30\n",
      "538/538 [==============================] - 21s 40ms/step - loss: 0.3384 - acc: 0.8853\n",
      "1613/1613 [==============================] - 153s 95ms/step - loss: 0.4065 - acc: 0.8453 - val_loss: 0.3384 - val_acc: 0.8853\n",
      "Epoch 5/30\n",
      "538/538 [==============================] - 21s 40ms/step - loss: 0.3195 - acc: 0.8951\n",
      "1613/1613 [==============================] - 153s 95ms/step - loss: 0.3321 - acc: 0.8760 - val_loss: 0.3195 - val_acc: 0.8951\n",
      "Epoch 6/30\n",
      "538/538 [==============================] - 21s 39ms/step - loss: 0.2188 - acc: 0.9289\n",
      "1613/1613 [==============================] - 153s 95ms/step - loss: 0.2840 - acc: 0.8928 - val_loss: 0.2188 - val_acc: 0.9289\n",
      "Epoch 7/30\n",
      "538/538 [==============================] - 21s 39ms/step - loss: 0.2108 - acc: 0.9294\n",
      "1613/1613 [==============================] - 153s 95ms/step - loss: 0.2624 - acc: 0.9031 - val_loss: 0.2108 - val_acc: 0.9294\n",
      "Epoch 8/30\n",
      "538/538 [==============================] - 21s 39ms/step - loss: 0.2133 - acc: 0.9271\n",
      "1613/1613 [==============================] - 153s 95ms/step - loss: 0.2397 - acc: 0.9110 - val_loss: 0.2133 - val_acc: 0.9271\n",
      "Epoch 9/30\n",
      "538/538 [==============================] - 21s 39ms/step - loss: 0.1776 - acc: 0.9456\n",
      "1613/1613 [==============================] - 153s 95ms/step - loss: 0.1996 - acc: 0.9254 - val_loss: 0.1776 - val_acc: 0.9456\n",
      "Epoch 10/30\n",
      "538/538 [==============================] - 22s 42ms/step - loss: 0.2047 - acc: 0.9338\n",
      "1613/1613 [==============================] - 154s 96ms/step - loss: 0.1925 - acc: 0.9294 - val_loss: 0.2047 - val_acc: 0.9338\n",
      "Epoch 11/30\n",
      "538/538 [==============================] - 22s 42ms/step - loss: 0.2108 - acc: 0.9338\n",
      "1613/1613 [==============================] - 154s 96ms/step - loss: 0.1765 - acc: 0.9364 - val_loss: 0.2108 - val_acc: 0.9338\n",
      "Epoch 12/30\n",
      "538/538 [==============================] - 23s 43ms/step - loss: 0.1691 - acc: 0.9487\n",
      "1613/1613 [==============================] - 155s 96ms/step - loss: 0.1694 - acc: 0.9392 - val_loss: 0.1691 - val_acc: 0.9487\n",
      "Epoch 13/30\n",
      "538/538 [==============================] - 23s 43ms/step - loss: 0.1534 - acc: 0.9488\n",
      "1613/1613 [==============================] - 155s 96ms/step - loss: 0.1582 - acc: 0.9434 - val_loss: 0.1534 - val_acc: 0.9488\n",
      "Epoch 14/30\n",
      "538/538 [==============================] - 23s 43ms/step - loss: 0.1440 - acc: 0.9573\n",
      "1613/1613 [==============================] - 155s 96ms/step - loss: 0.1482 - acc: 0.9468 - val_loss: 0.1440 - val_acc: 0.9573\n",
      "Epoch 15/30\n",
      "538/538 [==============================] - 23s 42ms/step - loss: 0.1455 - acc: 0.9553\n",
      "1613/1613 [==============================] - 155s 96ms/step - loss: 0.1451 - acc: 0.9482 - val_loss: 0.1455 - val_acc: 0.9553\n",
      "Epoch 16/30\n",
      "538/538 [==============================] - 22s 41ms/step - loss: 0.1891 - acc: 0.9420\n",
      "1613/1613 [==============================] - 154s 95ms/step - loss: 0.1322 - acc: 0.9527 - val_loss: 0.1891 - val_acc: 0.9420\n",
      "Epoch 17/30\n",
      "538/538 [==============================] - 22s 41ms/step - loss: 0.1402 - acc: 0.9542\n",
      "1613/1613 [==============================] - 154s 95ms/step - loss: 0.1288 - acc: 0.9537 - val_loss: 0.1402 - val_acc: 0.9542\n",
      "Epoch 18/30\n",
      "538/538 [==============================] - 22s 41ms/step - loss: 0.1445 - acc: 0.9535\n",
      "1613/1613 [==============================] - 154s 96ms/step - loss: 0.1180 - acc: 0.9586 - val_loss: 0.1445 - val_acc: 0.9535\n",
      "Epoch 19/30\n",
      "538/538 [==============================] - 22s 41ms/step - loss: 0.2937 - acc: 0.9070\n",
      "1613/1613 [==============================] - 154s 96ms/step - loss: 0.1194 - acc: 0.9580 - val_loss: 0.2937 - val_acc: 0.9070\n",
      "Epoch 20/30\n",
      "538/538 [==============================] - 22s 42ms/step - loss: 0.1277 - acc: 0.9598\n",
      "1613/1613 [==============================] - 155s 96ms/step - loss: 0.1148 - acc: 0.9584 - val_loss: 0.1277 - val_acc: 0.9598\n",
      "Epoch 21/30\n",
      "538/538 [==============================] - 22s 41ms/step - loss: 0.1381 - acc: 0.9603\n",
      "1613/1613 [==============================] - 154s 95ms/step - loss: 0.1086 - acc: 0.9609 - val_loss: 0.1381 - val_acc: 0.9603\n",
      "Epoch 22/30\n",
      "538/538 [==============================] - 23s 42ms/step - loss: 0.1146 - acc: 0.9644\n",
      "1613/1613 [==============================] - 155s 96ms/step - loss: 0.1075 - acc: 0.9619 - val_loss: 0.1146 - val_acc: 0.9644\n",
      "Epoch 23/30\n",
      "538/538 [==============================] - 22s 41ms/step - loss: 0.1314 - acc: 0.9625\n",
      "1613/1613 [==============================] - 154s 95ms/step - loss: 0.1059 - acc: 0.9628 - val_loss: 0.1314 - val_acc: 0.9625\n",
      "Epoch 24/30\n",
      "538/538 [==============================] - 23s 42ms/step - loss: 0.1487 - acc: 0.9557\n",
      "1613/1613 [==============================] - 155s 96ms/step - loss: 0.1058 - acc: 0.9621 - val_loss: 0.1487 - val_acc: 0.9557\n",
      "Epoch 25/30\n",
      "538/538 [==============================] - 23s 42ms/step - loss: 0.1343 - acc: 0.9618\n",
      "1613/1613 [==============================] - 154s 96ms/step - loss: 0.1007 - acc: 0.9642 - val_loss: 0.1343 - val_acc: 0.9618\n",
      "Epoch 26/30\n",
      "538/538 [==============================] - 24s 44ms/step - loss: 0.1499 - acc: 0.9564\n",
      "1613/1613 [==============================] - 164s 101ms/step - loss: 0.1024 - acc: 0.9640 - val_loss: 0.1499 - val_acc: 0.9564\n",
      "Epoch 27/30\n",
      "538/538 [==============================] - 23s 44ms/step - loss: 0.1582 - acc: 0.9494\n",
      "1613/1613 [==============================] - 156s 97ms/step - loss: 0.0948 - acc: 0.9676 - val_loss: 0.1582 - val_acc: 0.9494\n",
      "Epoch 28/30\n",
      "538/538 [==============================] - 23s 43ms/step - loss: 0.1450 - acc: 0.9567\n",
      "1613/1613 [==============================] - 157s 97ms/step - loss: 0.0983 - acc: 0.9658 - val_loss: 0.1450 - val_acc: 0.9567\n",
      "Epoch 29/30\n",
      "538/538 [==============================] - 23s 44ms/step - loss: 0.1201 - acc: 0.9641\n",
      "1613/1613 [==============================] - 156s 97ms/step - loss: 0.0948 - acc: 0.9687 - val_loss: 0.1201 - val_acc: 0.9641\n",
      "Epoch 30/30\n",
      "538/538 [==============================] - 23s 43ms/step - loss: 0.1338 - acc: 0.9619\n",
      "1613/1613 [==============================] - 156s 97ms/step - loss: 0.0914 - acc: 0.9702 - val_loss: 0.1338 - val_acc: 0.9619\n"
     ]
    },
    {
     "data": {
      "text/plain": [
       "<tensorflow.python.keras.callbacks.History at 0x7f81432f6850>"
      ]
     },
     "execution_count": 11,
     "metadata": {
      "tags": []
     },
     "output_type": "execute_result"
    }
   ],
   "source": [
    "model.fit_generator(\n",
    "        train_generator_fn(),\n",
    "        steps_per_epoch=1000 // batch_size,\n",
    "        epochs=30,\n",
    "        validation_data=valid_generator_fn(),\n",
    "        validation_steps=200 // batch_size)"
   ]
  },
  {
   "cell_type": "code",
   "execution_count": 15,
   "metadata": {
    "colab": {
     "base_uri": "https://localhost:8080/",
     "height": 357
    },
    "colab_type": "code",
    "id": "bq8pYBwvgwvj",
    "outputId": "9b0c8698-a597-480e-868c-a61446c76021"
   },
   "outputs": [
    {
     "data": {
      "image/png": "[encoded data removed]",
      "text/plain": [
       "<Figure size 1440x360 with 2 Axes>"
      ]
     },
     "metadata": {
      "tags": []
     },
     "output_type": "display_data"
    }
   ],
   "source": [
    "plot_metrics_model(model)"
   ]
  },
  {
   "cell_type": "markdown",
   "metadata": {},
   "source": [
    "En las gráficas puede observarse que la precisión y la validación de la precisión son muy cercanas hasta el final del entrenamiento, terminando la precisión en un 97.02% y la validación en un 96.19%, los cuales son valores esperados de un modelo bien entrenado.\n",
    "\n",
    "Por su parte, la pérdida muestra un comportamiento favorable, teniendo en cuenta que permanece decreciendo durante todo el entrenamiento junto a la validación de la pérdida, que tiende a estabilizarse a partir de la época 20.\n",
    "\n",
    "En general, teniendo en cuenta estos resultados, decidimos quedarnos con este modelo y los que se presentan en U3.2.1 y U3.2.2. Estos modelos son puestos a prueba en la tarea de clasificación."
   ]
  },
  {
   "cell_type": "markdown",
   "metadata": {},
   "source": [
    "Finalmente, se guarda y se descarga el modelo de Colab junto con los pesos obtenidos a partir del entrenamiento:"
   ]
  },
  {
   "cell_type": "code",
   "execution_count": 0,
   "metadata": {
    "colab": {},
    "colab_type": "code",
    "id": "wB3mhS6o4UPI"
   },
   "outputs": [],
   "source": [
    "from google.colab import files\n",
    "model.save('./CNN_Test_Val.model')\n",
    "files.download('./CNN_Test_Val.model')"
   ]
  }
 ],
 "metadata": {
  "accelerator": "GPU",
  "colab": {
   "name": "U3.2.2 - Modelo CNN_Val.ipynb",
   "provenance": [],
   "version": "0.3.2"
  },
  "kernelspec": {
   "display_name": "Python 2",
   "language": "python",
   "name": "python2"
  },
  "language_info": {
   "codemirror_mode": {
    "name": "ipython",
    "version": 2
   },
   "file_extension": ".py",
   "mimetype": "text/x-python",
   "name": "python",
   "nbconvert_exporter": "python",
   "pygments_lexer": "ipython2",
   "version": "2.7.14"
  }
 },
 "nbformat": 4,
 "nbformat_minor": 1
}
